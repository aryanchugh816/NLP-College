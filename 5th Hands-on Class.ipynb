{
 "cells": [
  {
   "cell_type": "markdown",
   "metadata": {},
   "source": [
    "## Importing libraries"
   ]
  },
  {
   "cell_type": "code",
   "execution_count": 1,
   "metadata": {},
   "outputs": [],
   "source": [
    "import spacy"
   ]
  },
  {
   "cell_type": "code",
   "execution_count": 2,
   "metadata": {
    "id": "BSSKj8iNLfIq"
   },
   "outputs": [],
   "source": [
    "sp = spacy.load('en_core_web_sm')"
   ]
  },
  {
   "cell_type": "code",
   "execution_count": 3,
   "metadata": {
    "id": "jUvmmuVLLqq1"
   },
   "outputs": [],
   "source": [
    "example1 = \"Mercedes-Benz is both a German automotive marque and, from late 2019 onwards, a subsidiary (Mercedes-Benz AG) of Daimler AG. Mercedes-Benz is known for producing luxury vehicles and commercial vehicles. The headquarters is in Stuttgart, Baden-Württemberg. The name first appeared in 1926 under Daimler-Benz. In 2018, Mercedes-Benz was the largest seller of premium vehicles in the world, having sold 2.31 million passenger cars.\""
   ]
  },
  {
   "cell_type": "code",
   "execution_count": 4,
   "metadata": {
    "colab": {
     "base_uri": "https://localhost:8080/",
     "height": 54
    },
    "id": "oFPOJW9QL18e",
    "outputId": "7e9a0646-88f9-4a02-f914-14f146218334"
   },
   "outputs": [
    {
     "data": {
      "text/plain": [
       "Mercedes-Benz is both a German automotive marque and, from late 2019 onwards, a subsidiary (Mercedes-Benz AG) of Daimler AG. Mercedes-Benz is known for producing luxury vehicles and commercial vehicles. The headquarters is in Stuttgart, Baden-Württemberg. The name first appeared in 1926 under Daimler-Benz. In 2018, Mercedes-Benz was the largest seller of premium vehicles in the world, having sold 2.31 million passenger cars."
      ]
     },
     "execution_count": 4,
     "metadata": {},
     "output_type": "execute_result"
    }
   ],
   "source": [
    "doc1 = sp(example1)\n",
    "doc1"
   ]
  },
  {
   "cell_type": "code",
   "execution_count": 5,
   "metadata": {
    "colab": {
     "base_uri": "https://localhost:8080/",
     "height": 816
    },
    "id": "maLm-AGyL8qY",
    "outputId": "e92fc558-1d6d-4abc-c5cd-762386ef637f"
   },
   "outputs": [
    {
     "name": "stdout",
     "output_type": "stream",
     "text": [
      "Mercedes-Benz ORG\n",
      "German NORP\n",
      "late 2019 DATE\n",
      "Mercedes-Benz AG ORG\n",
      "Daimler AG ORG\n",
      "Mercedes-Benz ORG\n",
      "Stuttgart GPE\n",
      "Baden-Württemberg GPE\n",
      "first ORDINAL\n",
      "1926 DATE\n",
      "Daimler-Benz ORG\n",
      "2018 DATE\n",
      "Mercedes-Benz ORG\n",
      "2.31 million CARDINAL\n"
     ]
    }
   ],
   "source": [
    "for ent in doc1.ents:\n",
    "  print(ent.text, ent.label_)"
   ]
  },
  {
   "cell_type": "code",
   "execution_count": 6,
   "metadata": {
    "colab": {
     "base_uri": "https://localhost:8080/",
     "height": 54
    },
    "id": "tPhvyf3vMEVJ",
    "outputId": "f8c777fc-cd89-44ad-b1ed-5c0ae10574c3"
   },
   "outputs": [
    {
     "data": {
      "text/plain": [
       "Gensim is an open-source library for unsupervised topic modeling and natural language processing, using modern statistical machine learning. Gensim is implemented in Python and Cython. Gensim is designed to handle large text collections using data streaming and incremental online algorithms, which differentiates it from most other machine learning software packages that target only in-memory processing. Gensim includes streamed parallelized implementations of fastText,[1] word2vec and doc2vec algorithms,[2] as well as latent semantic analysis (LSA, LSI, SVD), non-negative matrix factorization (NMF), latent Dirichlet allocation (LDA), tf-idf and random projections.[3] Some of the novel online algorithms in Gensim were also published in the 2011 PhD dissertation Scalability of Semantic Analysis in Natural Language Processing of Radim Řehůřek, the creator of Gensim."
      ]
     },
     "execution_count": 6,
     "metadata": {},
     "output_type": "execute_result"
    }
   ],
   "source": [
    "example2 = \"Gensim is an open-source library for unsupervised topic modeling and natural language processing, using modern statistical machine learning. Gensim is implemented in Python and Cython. Gensim is designed to handle large text collections using data streaming and incremental online algorithms, which differentiates it from most other machine learning software packages that target only in-memory processing. Gensim includes streamed parallelized implementations of fastText,[1] word2vec and doc2vec algorithms,[2] as well as latent semantic analysis (LSA, LSI, SVD), non-negative matrix factorization (NMF), latent Dirichlet allocation (LDA), tf-idf and random projections.[3] Some of the novel online algorithms in Gensim were also published in the 2011 PhD dissertation Scalability of Semantic Analysis in Natural Language Processing of Radim Řehůřek, the creator of Gensim.\"\n",
    "doc2 = sp(example2)\n",
    "doc2"
   ]
  },
  {
   "cell_type": "code",
   "execution_count": 7,
   "metadata": {
    "colab": {
     "base_uri": "https://localhost:8080/",
     "height": 799
    },
    "id": "7sujKpZFMPe5",
    "outputId": "d772126c-0600-4321-d8a5-ce222953c5ff"
   },
   "outputs": [
    {
     "name": "stdout",
     "output_type": "stream",
     "text": [
      "Gensim PERSON\n",
      "Python and Cython ORG\n",
      "Gensim PERSON\n",
      "Gensim PERSON\n",
      "fastText,[1 GPE\n",
      "LSA ORG\n",
      "LSI ORG\n",
      "SVD ORG\n",
      "NMF ORG\n",
      "Dirichlet PERSON\n",
      "LDA ORG\n",
      "Gensim PERSON\n",
      "2011 DATE\n"
     ]
    }
   ],
   "source": [
    "for ent in doc2.ents:\n",
    "  print(ent.text, ent.label_)"
   ]
  },
  {
   "cell_type": "code",
   "execution_count": 8,
   "metadata": {
    "id": "ZABD0vGJMUbH"
   },
   "outputs": [],
   "source": [
    "# ORG, PERSON, GPE, CARDINAL, LOC, DATE, TIME, QUANTITY, PRODUCT, WORK_OF_ART, FAC"
   ]
  },
  {
   "cell_type": "code",
   "execution_count": 9,
   "metadata": {
    "id": "AQKihCTIMdUt"
   },
   "outputs": [],
   "source": [
    "# Querying\n",
    "locs = [(\"Omnicom\",\"IN\",\"New York\"),(\"DDB Neendham\",\"IN\",\"New York\"),(\"Qwerty\",\"TNS\",\"Atlanta\"),(\"asdfg\",\"TNS\",\"Atlanta\")]"
   ]
  },
  {
   "cell_type": "code",
   "execution_count": 10,
   "metadata": {
    "colab": {
     "base_uri": "https://localhost:8080/",
     "height": 34
    },
    "id": "YJD2WvTCMgdm",
    "outputId": "cc94f06f-6865-4fc4-d73e-122347594c4d"
   },
   "outputs": [
    {
     "name": "stdout",
     "output_type": "stream",
     "text": [
      "['Qwerty', 'asdfg']\n"
     ]
    }
   ],
   "source": [
    "query = [e1 for (e1,rel,e2) in locs if e2==\"Atlanta\"]\n",
    "print(query)"
   ]
  }
 ],
 "metadata": {
  "colab": {
   "name": "Lab_5.ipynb",
   "provenance": []
  },
  "kernelspec": {
   "display_name": "Python 3",
   "language": "python",
   "name": "python3"
  },
  "language_info": {
   "codemirror_mode": {
    "name": "ipython",
    "version": 3
   },
   "file_extension": ".py",
   "mimetype": "text/x-python",
   "name": "python",
   "nbconvert_exporter": "python",
   "pygments_lexer": "ipython3",
   "version": "3.7.6"
  }
 },
 "nbformat": 4,
 "nbformat_minor": 1
}
